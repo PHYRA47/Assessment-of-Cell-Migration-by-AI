{
 "cells": [
  {
   "cell_type": "markdown",
   "metadata": {},
   "source": [
    "## Open the `.xls` file and get the coordinates"
   ]
  },
  {
   "cell_type": "code",
   "execution_count": 1,
   "metadata": {},
   "outputs": [
    {
     "name": "stdout",
     "output_type": "stream",
     "text": [
      "{'encoding': 'ISO-8859-1', 'confidence': 0.73, 'language': ''}\n"
     ]
    }
   ],
   "source": [
    "import chardet\n",
    "\n",
    "file_path = r'D:\\Desktop\\pretreatment-example\\WT - 01 month\\Manip01 - 2022-07-01 - 10Films\\Tracks - Expert 01 - Sophie\\Results from Myoblast__12_MMStack_Pos16-WT in µm per minTRACK3.xls'\n",
    "\n",
    "# Detect the encoding of the file\n",
    "with open(file_path, 'rb') as f:\n",
    "    result = chardet.detect(f.read())\n",
    "\n",
    "print(result)"
   ]
  },
  {
   "cell_type": "code",
   "execution_count": 5,
   "metadata": {},
   "outputs": [
    {
     "name": "stdout",
     "output_type": "stream",
     "text": [
      "       X    Y\n",
      "0    934   36\n",
      "1    934   34\n",
      "2    937   25\n",
      "3    937   14\n",
      "4    937   14\n",
      "..   ...  ...\n",
      "215  670  168\n",
      "216  670  168\n",
      "217  670  168\n",
      "218  670  168\n",
      "219  670  168\n",
      "\n",
      "[220 rows x 2 columns]\n"
     ]
    }
   ],
   "source": [
    "import pandas as pd\n",
    "\n",
    "# Replace 'ISO-8859-1' with the encoding detected by chardet\n",
    "df = pd.read_csv(file_path, sep='\\t', encoding=result['encoding'])\n",
    "\n",
    "# Display the DataFrame\n",
    "# print(df.head())\n",
    "\n",
    "# Select only the 'X' and 'Y' columns\n",
    "filtered_data = df.loc[:, ['X', 'Y']]\n",
    "print(filtered_data)"
   ]
  }
 ],
 "metadata": {
  "kernelspec": {
   "display_name": "torch",
   "language": "python",
   "name": "python3"
  },
  "language_info": {
   "codemirror_mode": {
    "name": "ipython",
    "version": 3
   },
   "file_extension": ".py",
   "mimetype": "text/x-python",
   "name": "python",
   "nbconvert_exporter": "python",
   "pygments_lexer": "ipython3",
   "version": "3.12.7"
  }
 },
 "nbformat": 4,
 "nbformat_minor": 2
}
