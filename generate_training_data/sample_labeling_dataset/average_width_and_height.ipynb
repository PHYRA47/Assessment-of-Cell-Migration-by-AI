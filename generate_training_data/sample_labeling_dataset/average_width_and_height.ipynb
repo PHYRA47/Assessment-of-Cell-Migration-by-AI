{
 "cells": [
  {
   "cell_type": "code",
   "execution_count": 1,
   "metadata": {},
   "outputs": [
    {
     "name": "stdout",
     "output_type": "stream",
     "text": [
      "Average of the last two columns: [0.03396015 0.0368355 ]\n",
      "Standard Deviation of the last two columns: [0.01982452 0.0211029 ]\n",
      "Variance of the last two columns: [0.00039301 0.00044533]\n"
     ]
    }
   ],
   "source": [
    "import numpy as np\n",
    "\n",
    "# Load the text file\n",
    "file_path = 'generate_training_data\\sample_labeling_dataset\\train\\labels\\frame_006_jpg.rf.ea024d01adb1d0bdbae987c2138b303b.txt'\n",
    "data = np.loadtxt(file_path)\n",
    "\n",
    "# Extract the last two columns\n",
    "last_two_columns = data[:, -2:]\n",
    "\n",
    "# Calculate the average, standard deviation, and variance\n",
    "average = np.mean(last_two_columns, axis=0)\n",
    "std_dev = np.std(last_two_columns, axis=0)\n",
    "variance = np.var(last_two_columns, axis=0)\n",
    "\n",
    "print(f\"Average of the last two columns: {average}\")\n",
    "print(f\"Standard Deviation of the last two columns: {std_dev}\")\n",
    "print(f\"Variance of the last two columns: {variance}\")"
   ]
  },
  {
   "cell_type": "code",
   "execution_count": 2,
   "metadata": {},
   "outputs": [
    {
     "name": "stdout",
     "output_type": "stream",
     "text": [
      "Average of the last two columns: [0.03578645 0.03754945]\n",
      "Standard Deviation of the last two columns: [0.02000315 0.02053787]\n",
      "Variance of the last two columns: [0.00040013 0.0004218 ]\n"
     ]
    }
   ],
   "source": [
    "# Load the text file\n",
    "file_path = 'generate_training_data\\sample_labeling_dataset\\train\\labels\\frame_007_jpg.rf.2a5096aadea1f087da82ed75c5b2d03f.txt'\n",
    "data = np.loadtxt(file_path)\n",
    "\n",
    "# Extract the last two columns\n",
    "last_two_columns = data[:, -2:]\n",
    "\n",
    "# Calculate the average, standard deviation, and variance\n",
    "average = np.mean(last_two_columns, axis=0)\n",
    "std_dev = np.std(last_two_columns, axis=0)\n",
    "variance = np.var(last_two_columns, axis=0)\n",
    "\n",
    "print(f\"Average of the last two columns: {average}\")\n",
    "print(f\"Standard Deviation of the last two columns: {std_dev}\")\n",
    "print(f\"Variance of the last two columns: {variance}\")"
   ]
  },
  {
   "cell_type": "code",
   "execution_count": 3,
   "metadata": {},
   "outputs": [
    {
     "name": "stdout",
     "output_type": "stream",
     "text": [
      "Average of the last two columns: [0.03541203 0.03646188]\n",
      "Standard Deviation of the last two columns: [0.01979384 0.01981282]\n",
      "Variance of the last two columns: [0.0003918  0.00039255]\n"
     ]
    }
   ],
   "source": [
    "# Load the text file\n",
    "file_path = 'generate_training_data\\sample_labeling_dataset\\train\\labels\\frame_008_jpg.rf.78c828dce023f7ee6dbea97ad61fefd4.txt'\n",
    "data = np.loadtxt(file_path)\n",
    "\n",
    "# Extract the last two columns\n",
    "last_two_columns = data[:, -2:]\n",
    "\n",
    "# Calculate the average, standard deviation, and variance\n",
    "average = np.mean(last_two_columns, axis=0)\n",
    "std_dev = np.std(last_two_columns, axis=0)\n",
    "variance = np.var(last_two_columns, axis=0)\n",
    "\n",
    "print(f\"Average of the last two columns: {average}\")\n",
    "print(f\"Standard Deviation of the last two columns: {std_dev}\")\n",
    "print(f\"Variance of the last two columns: {variance}\")"
   ]
  },
  {
   "cell_type": "code",
   "execution_count": 4,
   "metadata": {},
   "outputs": [
    {
     "name": "stdout",
     "output_type": "stream",
     "text": [
      "Average of the last two columns: [0.03460711 0.03664695]\n",
      "Standard Deviation of the last two columns: [0.01958741 0.01915345]\n",
      "Variance of the last two columns: [0.00038367 0.00036685]\n"
     ]
    }
   ],
   "source": [
    "# Load the text file\n",
    "file_path = 'generate_training_data\\sample_labeling_dataset\\train\\labels\\frame_009_jpg.rf.d1ef19b83893a361a1e3daf6c40d88b1.txt'\n",
    "data = np.loadtxt(file_path)\n",
    "\n",
    "# Extract the last two columns\n",
    "last_two_columns = data[:, -2:]\n",
    "\n",
    "# Calculate the average, standard deviation, and variance\n",
    "average = np.mean(last_two_columns, axis=0)\n",
    "std_dev = np.std(last_two_columns, axis=0)\n",
    "variance = np.var(last_two_columns, axis=0)\n",
    "\n",
    "print(f\"Average of the last two columns: {average}\")\n",
    "print(f\"Standard Deviation of the last two columns: {std_dev}\")\n",
    "print(f\"Variance of the last two columns: {variance}\")"
   ]
  },
  {
   "cell_type": "code",
   "execution_count": 5,
   "metadata": {},
   "outputs": [
    {
     "name": "stdout",
     "output_type": "stream",
     "text": [
      "Average of the last two columns: [0.03416094 0.03680548]\n",
      "Standard Deviation of the last two columns: [0.01942317 0.01962883]\n",
      "Variance of the last two columns: [0.00037726 0.00038529]\n"
     ]
    }
   ],
   "source": [
    "# Load the text file\n",
    "file_path = 'generate_training_data/sample_labeling_dataset/train/labels/frame_010_jpg.rf.5108d6d4097fce4492162aa4f4a2fe6f.txt'\n",
    "data = np.loadtxt(file_path)\n",
    "\n",
    "# Extract the last two columns\n",
    "last_two_columns = data[:, -2:]\n",
    "\n",
    "# Calculate the average, standard deviation, and variance\n",
    "average = np.mean(last_two_columns, axis=0)\n",
    "std_dev = np.std(last_two_columns, axis=0)\n",
    "variance = np.var(last_two_columns, axis=0)\n",
    "\n",
    "print(f\"Average of the last two columns: {average}\")\n",
    "print(f\"Standard Deviation of the last two columns: {std_dev}\")\n",
    "print(f\"Variance of the last two columns: {variance}\")"
   ]
  }
 ],
 "metadata": {
  "kernelspec": {
   "display_name": "si",
   "language": "python",
   "name": "python3"
  },
  "language_info": {
   "codemirror_mode": {
    "name": "ipython",
    "version": 3
   },
   "file_extension": ".py",
   "mimetype": "text/x-python",
   "name": "python",
   "nbconvert_exporter": "python",
   "pygments_lexer": "ipython3",
   "version": "3.10.14"
  }
 },
 "nbformat": 4,
 "nbformat_minor": 2
}
