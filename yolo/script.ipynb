{
 "cells": [
  {
   "cell_type": "code",
   "execution_count": null,
   "metadata": {},
   "outputs": [],
   "source": [
    "from ultralytics import YOLO\n",
    "import torch"
   ]
  },
  {
   "cell_type": "code",
   "execution_count": null,
   "metadata": {},
   "outputs": [],
   "source": [
    "print(\"CUDA available:\", torch.cuda.is_available())\n",
    "print(\"Current device:\", torch.cuda.current_device())\n",
    "print(\"Device name:\", torch.cuda.get_device_name(0))"
   ]
  },
  {
   "cell_type": "code",
   "execution_count": null,
   "metadata": {},
   "outputs": [],
   "source": [
    "# Load a model\n",
    "model = YOLO(\"yolo11n.yaml\")    # build a new model from YAML\n",
    "model = YOLO(\"yolo11n.pt\")      # load a pretrained model (recommended for training)\n",
    "\n",
    "# Load a dataset\n",
    "dataset_yaml_path = \"path/to/your/dataset.yaml\""
   ]
  },
  {
   "cell_type": "code",
   "execution_count": null,
   "metadata": {},
   "outputs": [],
   "source": [
    "# Train the model with custom dataset\n",
    "results = model.train(\n",
    "    task=\"train\",\n",
    "    data=dataset_yaml_path, \n",
    "    batch_size=16,  # batch=-1 to automatically adjust batch size for approximately 60% CUDA memory utilization.\n",
    "    epochs=5,       # epochs=100\n",
    "    device=\"cpu\",   # device=\"cuda\"\n",
    "    imgsz=(1392, 1040),\n",
    "    amp=True,       # Enable mixed precision training to reduce memory consumption\n",
    "    cache='ram',    # Cache images in RAM to speed up training\n",
    "    save=True,      # Save checkpoint after each epoch\n",
    ") "
   ]
  },
  {
   "cell_type": "code",
   "execution_count": null,
   "metadata": {},
   "outputs": [],
   "source": [
    "# Validate the model\n",
    "metrics = model.val(data='path/to/your/dataset.yaml')"
   ]
  }
 ],
 "metadata": {
  "kernelspec": {
   "display_name": "torch",
   "language": "python",
   "name": "python3"
  },
  "language_info": {
   "name": "python",
   "version": "3.12.7"
  }
 },
 "nbformat": 4,
 "nbformat_minor": 2
}
